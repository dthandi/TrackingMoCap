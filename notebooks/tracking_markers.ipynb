{
 "cells": [
  {
   "cell_type": "code",
   "execution_count": 2,
   "metadata": {},
   "outputs": [],
   "source": [
    "import numpy as np\n",
    "import pandas as pd"
   ]
  },
  {
   "cell_type": "code",
   "execution_count": 5,
   "metadata": {},
   "outputs": [],
   "source": [
    "trajectories_df = pd.read_csv('../data/raw/trajectories_df-20240503.csv',\n",
    "                              index_col=0,\n",
    "                              dtype = {'FlightID': str, 'Bird': str, 'Age': str,\n",
    "                                       'Category':str,'Iteration':int,'Time':float,\n",
    "                                       'Frame': int,'X':float,'Y':float,'Z':float})      "
   ]
  }
 ],
 "metadata": {
  "kernelspec": {
   "display_name": "venv",
   "language": "python",
   "name": "python3"
  },
  "language_info": {
   "codemirror_mode": {
    "name": "ipython",
    "version": 3
   },
   "file_extension": ".py",
   "mimetype": "text/x-python",
   "name": "python",
   "nbconvert_exporter": "python",
   "pygments_lexer": "ipython3",
   "version": "3.11.0"
  }
 },
 "nbformat": 4,
 "nbformat_minor": 2
}
